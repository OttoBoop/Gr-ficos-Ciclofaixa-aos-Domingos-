{
  "nbformat": 4,
  "nbformat_minor": 0,
  "metadata": {
    "colab": {
      "provenance": [],
      "mount_file_id": "1-O0qbu9gpBJt_3v4byW0miD7lqQglFHL",
      "authorship_tag": "ABX9TyMvZZN8ZGB9oyq7CP4FxPBH",
      "include_colab_link": true
    },
    "kernelspec": {
      "name": "python3",
      "display_name": "Python 3"
    },
    "language_info": {
      "name": "python"
    }
  },
  "cells": [
    {
      "cell_type": "markdown",
      "metadata": {
        "id": "view-in-github",
        "colab_type": "text"
      },
      "source": [
        "<a href=\"https://colab.research.google.com/github/OttoBoop/Gr-ficos-Ciclofaixa-aos-Domingos-/blob/main/Analises_Orla.ipynb\" target=\"_parent\"><img src=\"https://colab.research.google.com/assets/colab-badge.svg\" alt=\"Open In Colab\"/></a>"
      ]
    },
    {
      "cell_type": "code",
      "execution_count": 3,
      "metadata": {
        "colab": {
          "base_uri": "https://localhost:8080/"
        },
        "id": "d32efYBS7qU8",
        "outputId": "8e89bcc5-bf8e-4d02-fc50-f17a81281789"
      },
      "outputs": [
        {
          "output_type": "execute_result",
          "data": {
            "text/plain": [
              "Index(['Horário do envio', 'Você costuma usar a orla para lazer aos domingos?',\n",
              "       'Você é a favor da criação de uma faixa extra exclusiva de ciclistas?',\n",
              "       'Você utiliza a área de lazer da orla para:',\n",
              "       'Você acredita que a ciclovia atual no calçadão é suficiente para dar conta da demanda aos domingos e feriados?',\n",
              "       'Se fosse criada uma ciclovia temporária na pista de rolamento, qual faixa você considera ideal?',\n",
              "       'O que você gostaria de sugerir?', 'Nome', 'Telefone',\n",
              "       'Endereço (com CEP)', 'Data de nascimento'],\n",
              "      dtype='object')"
            ]
          },
          "metadata": {},
          "execution_count": 3
        }
      ],
      "source": [
        "import pandas as pd\n",
        "df=pd.read_csv(\"/content/drive/MyDrive/Gabinete Flávio Valle/Pesquisa e Produção Legislativa/Faixa extra para ciclistas.csv\")\n",
        "df.columns"
      ]
    },
    {
      "cell_type": "code",
      "source": [
        "!pip install ipywidgets"
      ],
      "metadata": {
        "colab": {
          "base_uri": "https://localhost:8080/"
        },
        "id": "MQwomq_n97aE",
        "outputId": "2e112fed-326c-4c28-8193-2e404045c46e"
      },
      "execution_count": 6,
      "outputs": [
        {
          "output_type": "stream",
          "name": "stdout",
          "text": [
            "Requirement already satisfied: ipywidgets in /usr/local/lib/python3.11/dist-packages (7.7.1)\n",
            "Requirement already satisfied: ipykernel>=4.5.1 in /usr/local/lib/python3.11/dist-packages (from ipywidgets) (6.17.1)\n",
            "Requirement already satisfied: ipython-genutils~=0.2.0 in /usr/local/lib/python3.11/dist-packages (from ipywidgets) (0.2.0)\n",
            "Requirement already satisfied: traitlets>=4.3.1 in /usr/local/lib/python3.11/dist-packages (from ipywidgets) (5.7.1)\n",
            "Requirement already satisfied: widgetsnbextension~=3.6.0 in /usr/local/lib/python3.11/dist-packages (from ipywidgets) (3.6.10)\n",
            "Requirement already satisfied: ipython>=4.0.0 in /usr/local/lib/python3.11/dist-packages (from ipywidgets) (7.34.0)\n",
            "Requirement already satisfied: jupyterlab-widgets>=1.0.0 in /usr/local/lib/python3.11/dist-packages (from ipywidgets) (3.0.15)\n",
            "Requirement already satisfied: debugpy>=1.0 in /usr/local/lib/python3.11/dist-packages (from ipykernel>=4.5.1->ipywidgets) (1.8.15)\n",
            "Requirement already satisfied: jupyter-client>=6.1.12 in /usr/local/lib/python3.11/dist-packages (from ipykernel>=4.5.1->ipywidgets) (6.1.12)\n",
            "Requirement already satisfied: matplotlib-inline>=0.1 in /usr/local/lib/python3.11/dist-packages (from ipykernel>=4.5.1->ipywidgets) (0.1.7)\n",
            "Requirement already satisfied: nest-asyncio in /usr/local/lib/python3.11/dist-packages (from ipykernel>=4.5.1->ipywidgets) (1.6.0)\n",
            "Requirement already satisfied: packaging in /usr/local/lib/python3.11/dist-packages (from ipykernel>=4.5.1->ipywidgets) (25.0)\n",
            "Requirement already satisfied: psutil in /usr/local/lib/python3.11/dist-packages (from ipykernel>=4.5.1->ipywidgets) (5.9.5)\n",
            "Requirement already satisfied: pyzmq>=17 in /usr/local/lib/python3.11/dist-packages (from ipykernel>=4.5.1->ipywidgets) (26.2.1)\n",
            "Requirement already satisfied: tornado>=6.1 in /usr/local/lib/python3.11/dist-packages (from ipykernel>=4.5.1->ipywidgets) (6.4.2)\n",
            "Requirement already satisfied: setuptools>=18.5 in /usr/local/lib/python3.11/dist-packages (from ipython>=4.0.0->ipywidgets) (75.2.0)\n",
            "Collecting jedi>=0.16 (from ipython>=4.0.0->ipywidgets)\n",
            "  Downloading jedi-0.19.2-py2.py3-none-any.whl.metadata (22 kB)\n",
            "Requirement already satisfied: decorator in /usr/local/lib/python3.11/dist-packages (from ipython>=4.0.0->ipywidgets) (4.4.2)\n",
            "Requirement already satisfied: pickleshare in /usr/local/lib/python3.11/dist-packages (from ipython>=4.0.0->ipywidgets) (0.7.5)\n",
            "Requirement already satisfied: prompt-toolkit!=3.0.0,!=3.0.1,<3.1.0,>=2.0.0 in /usr/local/lib/python3.11/dist-packages (from ipython>=4.0.0->ipywidgets) (3.0.51)\n",
            "Requirement already satisfied: pygments in /usr/local/lib/python3.11/dist-packages (from ipython>=4.0.0->ipywidgets) (2.19.2)\n",
            "Requirement already satisfied: backcall in /usr/local/lib/python3.11/dist-packages (from ipython>=4.0.0->ipywidgets) (0.2.0)\n",
            "Requirement already satisfied: pexpect>4.3 in /usr/local/lib/python3.11/dist-packages (from ipython>=4.0.0->ipywidgets) (4.9.0)\n",
            "Requirement already satisfied: notebook>=4.4.1 in /usr/local/lib/python3.11/dist-packages (from widgetsnbextension~=3.6.0->ipywidgets) (6.5.7)\n",
            "Requirement already satisfied: parso<0.9.0,>=0.8.4 in /usr/local/lib/python3.11/dist-packages (from jedi>=0.16->ipython>=4.0.0->ipywidgets) (0.8.4)\n",
            "Requirement already satisfied: jupyter-core>=4.6.0 in /usr/local/lib/python3.11/dist-packages (from jupyter-client>=6.1.12->ipykernel>=4.5.1->ipywidgets) (5.8.1)\n",
            "Requirement already satisfied: python-dateutil>=2.1 in /usr/local/lib/python3.11/dist-packages (from jupyter-client>=6.1.12->ipykernel>=4.5.1->ipywidgets) (2.9.0.post0)\n",
            "Requirement already satisfied: jinja2 in /usr/local/lib/python3.11/dist-packages (from notebook>=4.4.1->widgetsnbextension~=3.6.0->ipywidgets) (3.1.6)\n",
            "Requirement already satisfied: argon2-cffi in /usr/local/lib/python3.11/dist-packages (from notebook>=4.4.1->widgetsnbextension~=3.6.0->ipywidgets) (25.1.0)\n",
            "Requirement already satisfied: nbformat in /usr/local/lib/python3.11/dist-packages (from notebook>=4.4.1->widgetsnbextension~=3.6.0->ipywidgets) (5.10.4)\n",
            "Requirement already satisfied: nbconvert>=5 in /usr/local/lib/python3.11/dist-packages (from notebook>=4.4.1->widgetsnbextension~=3.6.0->ipywidgets) (7.16.6)\n",
            "Requirement already satisfied: Send2Trash>=1.8.0 in /usr/local/lib/python3.11/dist-packages (from notebook>=4.4.1->widgetsnbextension~=3.6.0->ipywidgets) (1.8.3)\n",
            "Requirement already satisfied: terminado>=0.8.3 in /usr/local/lib/python3.11/dist-packages (from notebook>=4.4.1->widgetsnbextension~=3.6.0->ipywidgets) (0.18.1)\n",
            "Requirement already satisfied: prometheus-client in /usr/local/lib/python3.11/dist-packages (from notebook>=4.4.1->widgetsnbextension~=3.6.0->ipywidgets) (0.22.1)\n",
            "Requirement already satisfied: nbclassic>=0.4.7 in /usr/local/lib/python3.11/dist-packages (from notebook>=4.4.1->widgetsnbextension~=3.6.0->ipywidgets) (1.3.1)\n",
            "Requirement already satisfied: ptyprocess>=0.5 in /usr/local/lib/python3.11/dist-packages (from pexpect>4.3->ipython>=4.0.0->ipywidgets) (0.7.0)\n",
            "Requirement already satisfied: wcwidth in /usr/local/lib/python3.11/dist-packages (from prompt-toolkit!=3.0.0,!=3.0.1,<3.1.0,>=2.0.0->ipython>=4.0.0->ipywidgets) (0.2.13)\n",
            "Requirement already satisfied: platformdirs>=2.5 in /usr/local/lib/python3.11/dist-packages (from jupyter-core>=4.6.0->jupyter-client>=6.1.12->ipykernel>=4.5.1->ipywidgets) (4.3.8)\n",
            "Requirement already satisfied: notebook-shim>=0.2.3 in /usr/local/lib/python3.11/dist-packages (from nbclassic>=0.4.7->notebook>=4.4.1->widgetsnbextension~=3.6.0->ipywidgets) (0.2.4)\n",
            "Requirement already satisfied: beautifulsoup4 in /usr/local/lib/python3.11/dist-packages (from nbconvert>=5->notebook>=4.4.1->widgetsnbextension~=3.6.0->ipywidgets) (4.13.4)\n",
            "Requirement already satisfied: bleach!=5.0.0 in /usr/local/lib/python3.11/dist-packages (from bleach[css]!=5.0.0->nbconvert>=5->notebook>=4.4.1->widgetsnbextension~=3.6.0->ipywidgets) (6.2.0)\n",
            "Requirement already satisfied: defusedxml in /usr/local/lib/python3.11/dist-packages (from nbconvert>=5->notebook>=4.4.1->widgetsnbextension~=3.6.0->ipywidgets) (0.7.1)\n",
            "Requirement already satisfied: jupyterlab-pygments in /usr/local/lib/python3.11/dist-packages (from nbconvert>=5->notebook>=4.4.1->widgetsnbextension~=3.6.0->ipywidgets) (0.3.0)\n",
            "Requirement already satisfied: markupsafe>=2.0 in /usr/local/lib/python3.11/dist-packages (from nbconvert>=5->notebook>=4.4.1->widgetsnbextension~=3.6.0->ipywidgets) (3.0.2)\n",
            "Requirement already satisfied: mistune<4,>=2.0.3 in /usr/local/lib/python3.11/dist-packages (from nbconvert>=5->notebook>=4.4.1->widgetsnbextension~=3.6.0->ipywidgets) (3.1.3)\n",
            "Requirement already satisfied: nbclient>=0.5.0 in /usr/local/lib/python3.11/dist-packages (from nbconvert>=5->notebook>=4.4.1->widgetsnbextension~=3.6.0->ipywidgets) (0.10.2)\n",
            "Requirement already satisfied: pandocfilters>=1.4.1 in /usr/local/lib/python3.11/dist-packages (from nbconvert>=5->notebook>=4.4.1->widgetsnbextension~=3.6.0->ipywidgets) (1.5.1)\n",
            "Requirement already satisfied: fastjsonschema>=2.15 in /usr/local/lib/python3.11/dist-packages (from nbformat->notebook>=4.4.1->widgetsnbextension~=3.6.0->ipywidgets) (2.21.1)\n",
            "Requirement already satisfied: jsonschema>=2.6 in /usr/local/lib/python3.11/dist-packages (from nbformat->notebook>=4.4.1->widgetsnbextension~=3.6.0->ipywidgets) (4.25.0)\n",
            "Requirement already satisfied: six>=1.5 in /usr/local/lib/python3.11/dist-packages (from python-dateutil>=2.1->jupyter-client>=6.1.12->ipykernel>=4.5.1->ipywidgets) (1.17.0)\n",
            "Requirement already satisfied: argon2-cffi-bindings in /usr/local/lib/python3.11/dist-packages (from argon2-cffi->notebook>=4.4.1->widgetsnbextension~=3.6.0->ipywidgets) (25.1.0)\n",
            "Requirement already satisfied: webencodings in /usr/local/lib/python3.11/dist-packages (from bleach!=5.0.0->bleach[css]!=5.0.0->nbconvert>=5->notebook>=4.4.1->widgetsnbextension~=3.6.0->ipywidgets) (0.5.1)\n",
            "Requirement already satisfied: tinycss2<1.5,>=1.1.0 in /usr/local/lib/python3.11/dist-packages (from bleach[css]!=5.0.0->nbconvert>=5->notebook>=4.4.1->widgetsnbextension~=3.6.0->ipywidgets) (1.4.0)\n",
            "Requirement already satisfied: attrs>=22.2.0 in /usr/local/lib/python3.11/dist-packages (from jsonschema>=2.6->nbformat->notebook>=4.4.1->widgetsnbextension~=3.6.0->ipywidgets) (25.3.0)\n",
            "Requirement already satisfied: jsonschema-specifications>=2023.03.6 in /usr/local/lib/python3.11/dist-packages (from jsonschema>=2.6->nbformat->notebook>=4.4.1->widgetsnbextension~=3.6.0->ipywidgets) (2025.4.1)\n",
            "Requirement already satisfied: referencing>=0.28.4 in /usr/local/lib/python3.11/dist-packages (from jsonschema>=2.6->nbformat->notebook>=4.4.1->widgetsnbextension~=3.6.0->ipywidgets) (0.36.2)\n",
            "Requirement already satisfied: rpds-py>=0.7.1 in /usr/local/lib/python3.11/dist-packages (from jsonschema>=2.6->nbformat->notebook>=4.4.1->widgetsnbextension~=3.6.0->ipywidgets) (0.26.0)\n",
            "Requirement already satisfied: jupyter-server<3,>=1.8 in /usr/local/lib/python3.11/dist-packages (from notebook-shim>=0.2.3->nbclassic>=0.4.7->notebook>=4.4.1->widgetsnbextension~=3.6.0->ipywidgets) (1.16.0)\n",
            "Requirement already satisfied: cffi>=1.0.1 in /usr/local/lib/python3.11/dist-packages (from argon2-cffi-bindings->argon2-cffi->notebook>=4.4.1->widgetsnbextension~=3.6.0->ipywidgets) (1.17.1)\n",
            "Requirement already satisfied: soupsieve>1.2 in /usr/local/lib/python3.11/dist-packages (from beautifulsoup4->nbconvert>=5->notebook>=4.4.1->widgetsnbextension~=3.6.0->ipywidgets) (2.7)\n",
            "Requirement already satisfied: typing-extensions>=4.0.0 in /usr/local/lib/python3.11/dist-packages (from beautifulsoup4->nbconvert>=5->notebook>=4.4.1->widgetsnbextension~=3.6.0->ipywidgets) (4.14.1)\n",
            "Requirement already satisfied: pycparser in /usr/local/lib/python3.11/dist-packages (from cffi>=1.0.1->argon2-cffi-bindings->argon2-cffi->notebook>=4.4.1->widgetsnbextension~=3.6.0->ipywidgets) (2.22)\n",
            "Requirement already satisfied: anyio>=3.1.0 in /usr/local/lib/python3.11/dist-packages (from jupyter-server<3,>=1.8->notebook-shim>=0.2.3->nbclassic>=0.4.7->notebook>=4.4.1->widgetsnbextension~=3.6.0->ipywidgets) (4.10.0)\n",
            "Requirement already satisfied: websocket-client in /usr/local/lib/python3.11/dist-packages (from jupyter-server<3,>=1.8->notebook-shim>=0.2.3->nbclassic>=0.4.7->notebook>=4.4.1->widgetsnbextension~=3.6.0->ipywidgets) (1.8.0)\n",
            "Requirement already satisfied: idna>=2.8 in /usr/local/lib/python3.11/dist-packages (from anyio>=3.1.0->jupyter-server<3,>=1.8->notebook-shim>=0.2.3->nbclassic>=0.4.7->notebook>=4.4.1->widgetsnbextension~=3.6.0->ipywidgets) (3.10)\n",
            "Requirement already satisfied: sniffio>=1.1 in /usr/local/lib/python3.11/dist-packages (from anyio>=3.1.0->jupyter-server<3,>=1.8->notebook-shim>=0.2.3->nbclassic>=0.4.7->notebook>=4.4.1->widgetsnbextension~=3.6.0->ipywidgets) (1.3.1)\n",
            "Downloading jedi-0.19.2-py2.py3-none-any.whl (1.6 MB)\n",
            "\u001b[2K   \u001b[90m━━━━━━━━━━━━━━━━━━━━━━━━━━━━━━━━━━━━━━━━\u001b[0m \u001b[32m1.6/1.6 MB\u001b[0m \u001b[31m20.4 MB/s\u001b[0m eta \u001b[36m0:00:00\u001b[0m\n",
            "\u001b[?25hInstalling collected packages: jedi\n",
            "Successfully installed jedi-0.19.2\n"
          ]
        }
      ]
    },
    {
      "cell_type": "code",
      "source": [
        "!jupyter nbextension enable --py widgetsnbextension"
      ],
      "metadata": {
        "colab": {
          "base_uri": "https://localhost:8080/"
        },
        "id": "_mcceDbm997L",
        "outputId": "e37d68db-5946-4b1a-8ae9-f97d09f95cd2"
      },
      "execution_count": 8,
      "outputs": [
        {
          "output_type": "stream",
          "name": "stdout",
          "text": [
            "Enabling notebook extension jupyter-js-widgets/extension...\n",
            "      - Validating: \u001b[32mOK\u001b[0m\n"
          ]
        }
      ]
    },
    {
      "cell_type": "code",
      "source": [
        "# Colab: habilitar widgets + renderer do plotly\n",
        "!pip -q install ipywidgets==8.* plotly>=5\n",
        "from google.colab import output\n",
        "output.enable_custom_widget_manager()\n",
        "\n",
        "import plotly.io as pio\n",
        "pio.renderers.default = 'colab'  # garante que o plotly renderize no notebook\n"
      ],
      "metadata": {
        "id": "MrDWj8ZF_707"
      },
      "execution_count": 11,
      "outputs": []
    },
    {
      "cell_type": "code",
      "source": [
        "fig.write_html(\"interactive_plot.html\")"
      ],
      "metadata": {
        "id": "XvyXIoQXHSzL"
      },
      "execution_count": 24,
      "outputs": []
    },
    {
      "cell_type": "code",
      "metadata": {
        "colab": {
          "base_uri": "https://localhost:8080/"
        },
        "id": "2486f2a7",
        "outputId": "16a6fa47-6ba9-4d6a-e527-7ffceda3846f"
      },
      "source": [
        "unique_suggestions = df['O que você gostaria de sugerir?'].unique()\n",
        "print(unique_suggestions)"
      ],
      "execution_count": 25,
      "outputs": [
        {
          "output_type": "stream",
          "name": "stdout",
          "text": [
            "['Praia de Botafogo ser fechada aos domingos e feriados como todas as outras '\n",
            " 'Pois não passa ônibus ' nan\n",
            " 'Que vcs fiscalizem! A ciclovia está uma selva! Pessoas correndo em trios, correndo em grupos, carrinhos de bebê em dupla, motos eletrônicas acima da velocidade, cada ultrapassagem ultimamente é risco de vida, adolescentes também, menores de 18 anos não deveriam poder ter bike elétrica!! Sou professora e a 15 anos dependo da minha bike para dar aula o dia todo, e digo com propriedade, as ciclovias estão um caos e muito perigosas! Precisamos urgente repensar os espaços públicos! Vcs ficam esperando algo trágico p fazer alguma cosia, não façam isso por favor, hajam logo estamos precisando muito. FISCALIZEM POR FAVOR'\n",
            " 'As bicicletas são meio de transporte e não apenas utensílios de lazere. Precisam de vias exclusivas para elas. As ciclovias estao lotadas de transeuntes aleatórios, bicicletas de carga de gelo estacionadas, carrinho de milho (Todos os dias).'\n",
            " 'Muitas coisas para o Rio de Janeiro '\n",
            " 'Flavinho para prefeito nas próximas eleições ' 'Experiência.'\n",
            " 'A questão é que ultimamente a guarda pede para as bicicletas usem exclusivamente a ciclovia (e tá certo!), mas na ciclovia tem gente caminhando, gente correndo, PATINETE (o que não minha opinião é o maior problema), ambulante... tem de tudo! No fim a ciclovia fica um caos, muitas ultrapassagens e com isso risco para todo mundo. Talvez a solução seja dividir pista para passeio e pista para atividade física, por causa das velocidades. Isso diminuiria o zigue zague e os riscos. E uma coisa que foi MUITO ruim no último final de semana toi manifestação com trio atravessado techando todas as pistas! Antes mesmo da manifestação começar já estava caótico pq afunilou todo mundo pela ciclovia. Com as eleições chegando (e sabemos que manifestações ficarão mais frequentes) precisamos pensar num mecanismo das manifestações não atrapalharem o lazer e esporte da população.'\n",
            " 'Essa nova faixa gera um movimento bom para quem pedala por esporte. Após as 7h não tem onde fazer treino plano na cidade. Essa faixa seria uma grande oportunidade para treinos. Porém com um controle da velocidade dos ciclistas e proibição de motos elétricas na ciclo faixa.'\n",
            " 'Sou ciclista também e entendo que a ciclovia é suficiente para passeios aos domingos, se o propósito for performance, que seja utilizada a rua junto aos veículos. Corro aos domingos na pista fechada e sei como o espaço fica restrito quando uma faixa é fechada para corridas de rua, desculpem mas acho a ideia absurda, alem de restringir o espaço que ja é bem disputado por pedestres (incluindo criancas, idosos, cadeirantes, pets etc). O que é realmente necessário é educação para o uso dos espaços.\\nObs: desconsidere a escolha da faixa, pois eu não vejo nenhuma opção válida'\n",
            " 'Horário das 4h às 6h exclusivo para treino de ciclismo aos sábados e domingos.'\n",
            " 'Boa noite, Flávio Copacabana daria para criar esta faixa canteiro central, Ipanema e Leblon acho que não daria, por ser estreita.\\nSugiro você me contratar para sua área de Marketing e Administração, estou terminando a faculdade de Marketing 😘\\nComo estamos falando de Orla, sugiro padronizar as barracas na areia, cores verdes com azul turquesa, expositor de bebidas padronizado, cadeiras, ombrelone e mesinhas, pensa nisto é um projeto que pensei em parceira na época que eu trabalhava no Rio de Prêmios. \\nGrande abraço.'\n",
            " 'Ordenamento para que possa voltar a frequentar a pista. Tenho receio de me machucar e parei de ir. Ia todo domingo mas parei por medo e precaução. Muita desordem.'\n",
            " 'Acredito que a ampliação da ciclofaixa fará com que os pedestres prestem mais atenção na hora de cruzá-la, além de garantir o espaço para rolagem de bicicletas utilitárias dos ambulantes e distribuidores de gelo. '\n",
            " 'Que de uma solução na feira da gloria pq isso sim virou uma zona '\n",
            " 'Organizem a ciclovia primeiro. Organizem a ciclovia, retirem carrinhos de gelo parados, andantes, carro de cadeira de praia. Se vcs não organizam e fazem funcionar a ciclovia, acha que vai funcionar a faixa adicional? '\n",
            " 'Faixa dos carros onde já passam menos no fim de semana do outro lado'\n",
            " 'A criação de uma ciclovia ao lado do canteiro central, será de suma importância para o Atletas de ciclismo, que inclusive foi o esporte que mais cresceu no RJ da pandemia pra cá. '\n",
            " 'Que a prefeitura desse mais atenção a ciclovia. Constantemente cruzo com pessoas andando na ciclovia, carrinhos bloqueando a via e bicicletas elétricas em velocidades incompatíveis com o local.'\n",
            " 'Aproveitar essa discussão e começar a pensar em uma pista para caminhões descarregarem material para os quiosques. Durante a semana fica uma pista “semi interditada “ por veículos em toda orla, provocando um caos no trânsito. '\n",
            " 'A ciclovia atual só não dá vazão para as bikes, pq pessoas CAMINHAM pela ciclovia! Acho que, do jeito que bicicletas não podem andar pela rua, pessoas tb não podem caminhar nem correr pela ciclovia! '\n",
            " 'Que eles parassem de atropelar as pessoas e respeitassem os motoristas.  Pois eles nos atropelar diariamente.  Imagina terem mais espaço. '\n",
            " 'Pode até ser feita outra faixa mas o que precisa sempreeeee é fiscalização! Fica uma zona aos domingos. Todo mundo sendo atropelado por bicicletas e patinastes. Mas não existe fiscalização e os guardas municipais não podem intervir. Risco alto de atropelamento ']\n"
          ]
        }
      ]
    },
    {
      "cell_type": "code",
      "source": [
        "import plotly.graph_objects as go\n",
        "import plotly.io as pio\n",
        "import textwrap\n",
        "\n",
        "# --- Config & helpers ---------------------------------------------------------\n",
        "questions = [\n",
        "    'Você costuma usar a orla para lazer aos domingos?',\n",
        "    'Você é a favor da criação de uma faixa extra exclusiva de ciclistas?',\n",
        "    'Você utiliza a área de lazer da orla para:',\n",
        "    'Você acredita que a ciclovia atual no calçadão é suficiente para dar conta da demanda aos domingos e feriados?',\n",
        "    'Se fosse criada uma ciclovia temporária na pista de rolamento, qual faixa você considera ideal?'\n",
        "]\n",
        "\n",
        "WRAP = 18\n",
        "def wrap_label(s, width=WRAP):\n",
        "    return \"<br>\".join(textwrap.wrap(str(s), width=width))\n",
        "\n",
        "def prep_counts(series):\n",
        "    return series.fillna('Sem resposta').value_counts(dropna=False)\n",
        "\n",
        "# --- Prepara dados agregados --------------------------------------------------\n",
        "agg = {}\n",
        "for q in questions:\n",
        "    counts = prep_counts(df[q])\n",
        "    labels = [wrap_label(x) for x in counts.index]\n",
        "    agg[q] = {\"labels\": labels, \"raw_labels\": list(counts.index), \"values\": counts.values}\n",
        "\n",
        "# --- Cria figura e traces (2 por pergunta: Barras + Pizza) --------------------\n",
        "fig = go.Figure()\n",
        "trace_map = {}\n",
        "bar_idxs, pie_idxs = [], []\n",
        "\n",
        "for qi, q in enumerate(questions):\n",
        "    trace_map[q] = {}\n",
        "\n",
        "    # Barras (visível só na pergunta inicial)\n",
        "    bar_trace = go.Bar(\n",
        "        x=agg[q][\"labels\"], y=agg[q][\"values\"],\n",
        "        hovertemplate='%{customdata}<br><b>Respostas:</b> %{y}<extra></extra>',\n",
        "        customdata=agg[q][\"raw_labels\"],\n",
        "        name=f\"{q} - Barras\",\n",
        "        showlegend=False,\n",
        "        visible=True if (qi == 0) else False,\n",
        "    )\n",
        "    fig.add_trace(bar_trace)\n",
        "    bar_idx = len(fig.data) - 1\n",
        "    trace_map[q][\"Barras\"] = bar_idx\n",
        "    bar_idxs.append(bar_idx)\n",
        "\n",
        "    # Pizza (também visível na pergunta inicial; o TIPO decide qual aparece)\n",
        "    pie_trace = go.Pie(\n",
        "        labels=agg[q][\"labels\"], values=agg[q][\"values\"], sort=False,\n",
        "        hovertemplate='%{label}<br><b>N:</b> %{value} (<b>%{percent}</b>)<extra></extra>',\n",
        "        textinfo='percent+label',\n",
        "        name=f\"{q} - Pizza\",\n",
        "        showlegend=True,\n",
        "        visible=True if (qi == 0) else False,\n",
        "    )\n",
        "    fig.add_trace(pie_trace)\n",
        "    pie_idx = len(fig.data) - 1\n",
        "    trace_map[q][\"Pizza\"] = pie_idx\n",
        "    pie_idxs.append(pie_idx)\n",
        "\n",
        "# --- Estado inicial do TIPO: Barras (opacidade e eixos) -----------------------\n",
        "# Opacidade global por trace: Barras=1, Pizzas=0\n",
        "for i in bar_idxs: fig.data[i].opacity = 1\n",
        "for i in pie_idxs: fig.data[i].opacity = 0\n",
        "\n",
        "# --- Botões: PERGUNTA (controlam apenas 'visible' + título) -------------------\n",
        "question_buttons = []\n",
        "n_traces = len(fig.data)\n",
        "\n",
        "for q in questions:\n",
        "    visible = [False] * n_traces\n",
        "    visible[trace_map[q][\"Barras\"]] = True\n",
        "    visible[trace_map[q][\"Pizza\"]]  = True  # mantém os dois visíveis; TIPO decide opacidade\n",
        "\n",
        "    question_buttons.append(dict(\n",
        "        label=q,\n",
        "        method=\"update\",\n",
        "        args=[\n",
        "            {\"visible\": visible},                  # só visibilidade\n",
        "            {\"title\": q}                           # e título\n",
        "        ]\n",
        "    ))\n",
        "\n",
        "# --- Botões: TIPO (não mexem em 'visible'; só opacidade, eixos e legenda) -----\n",
        "# Máscaras de opacidade globais\n",
        "op_barras = [1 if i in bar_idxs else 0 for i in range(n_traces)]\n",
        "op_pizza  = [1 if i in pie_idxs  else 0 for i in range(n_traces)]\n",
        "\n",
        "type_buttons = [\n",
        "    dict(\n",
        "        label=\"Barras\",\n",
        "        method=\"update\",\n",
        "        args=[\n",
        "            {\"opacity\": op_barras},\n",
        "            {\n",
        "                \"xaxis\": {\"visible\": True,  \"showgrid\": True,  \"gridcolor\": \"LightGray\"},\n",
        "                \"yaxis\": {\"visible\": True,  \"showgrid\": True,  \"gridcolor\": \"LightGray\", \"rangemode\": \"tozero\"},\n",
        "                \"showlegend\": False\n",
        "            }\n",
        "        ]\n",
        "    ),\n",
        "    dict(\n",
        "        label=\"Pizza\",\n",
        "        method=\"update\",\n",
        "        args=[\n",
        "            {\"opacity\": op_pizza},\n",
        "            {\n",
        "                \"xaxis\": {\"visible\": False},\n",
        "                \"yaxis\": {\"visible\": False},\n",
        "                \"showlegend\": True\n",
        "            }\n",
        "        ]\n",
        "    )\n",
        "]\n",
        "\n",
        "# --- Layout, menus e estilo ---------------------------------------------------\n",
        "fig.update_layout(\n",
        "    title=dict(text=questions[0], y=0.98, x=0.02, xanchor=\"left\", font=dict(size=18)),\n",
        "    updatemenus=[\n",
        "        # Menu PERGUNTA (em cima, à esquerda)\n",
        "        dict(buttons=question_buttons, direction=\"down\", showactive=True,\n",
        "             x=0.02, xanchor=\"left\", y=1.08, yanchor=\"top\",\n",
        "             pad={\"t\":0,\"r\":0,\"b\":0,\"l\":0}),\n",
        "        # Menu TIPO (logo abaixo, à esquerda)\n",
        "        dict(buttons=type_buttons, direction=\"down\", showactive=True,\n",
        "             x=0.02, xanchor=\"left\", y=1.03, yanchor=\"top\",\n",
        "             pad={\"t\":0,\"r\":0,\"b\":0,\"l\":0}),\n",
        "    ],\n",
        "    height=600,\n",
        "    paper_bgcolor=\"white\",\n",
        "    plot_bgcolor=\"white\",\n",
        "    legend=dict(orientation=\"v\", yanchor=\"top\", y=1, xanchor=\"left\", x=1.25, itemwidth=60),\n",
        "    margin=dict(t=95, b=20, l=20, r=240),  # reserva espaço fixo p/ legenda\n",
        "    xaxis=dict(visible=True, showgrid=True, gridcolor=\"LightGray\"),\n",
        "    yaxis=dict(visible=True, showgrid=True, gridcolor=\"LightGray\", rangemode=\"tozero\"),\n",
        "    bargap=0.25\n",
        ")\n",
        "\n",
        "# --- (Opcional) Exportar HTML completo offline --------------------------------\n",
        "pio.write_html(fig, file=\"grafico_interativo.html\", full_html=True)\n",
        "\n",
        "fig.show()\n"
      ],
      "metadata": {
        "colab": {
          "base_uri": "https://localhost:8080/",
          "height": 617
        },
        "id": "Hk4BS7kBTaJJ",
        "outputId": "9153efb9-fdfa-4e6e-b040-b2ffa7a94ffb"
      },
      "execution_count": 37,
      "outputs": [
        {
          "output_type": "display_data",
          "data": {
            "text/html": [
              "<html>\n",
              "<head><meta charset=\"utf-8\" /></head>\n",
              "<body>\n",
              "    <div>            <script src=\"https://cdnjs.cloudflare.com/ajax/libs/mathjax/2.7.5/MathJax.js?config=TeX-AMS-MML_SVG\"></script><script type=\"text/javascript\">if (window.MathJax && window.MathJax.Hub && window.MathJax.Hub.Config) {window.MathJax.Hub.Config({SVG: {font: \"STIX-Web\"}});}</script>                <script type=\"text/javascript\">window.PlotlyConfig = {MathJaxConfig: 'local'};</script>\n",
              "        <script charset=\"utf-8\" src=\"https://cdn.plot.ly/plotly-2.35.2.min.js\"></script>                <div id=\"3e2ba42e-f0cc-42a1-8fdf-acae0bf7d0c3\" class=\"plotly-graph-div\" style=\"height:600px; width:100%;\"></div>            <script type=\"text/javascript\">                                    window.PLOTLYENV=window.PLOTLYENV || {};                                    if (document.getElementById(\"3e2ba42e-f0cc-42a1-8fdf-acae0bf7d0c3\")) {                    Plotly.newPlot(                        \"3e2ba42e-f0cc-42a1-8fdf-acae0bf7d0c3\",                        [{\"customdata\":[\"Sim, todo domingo\",\"Eventualmente\",\"Raramente\"],\"hovertemplate\":\"%{customdata}\\u003cbr\\u003e\\u003cb\\u003eRespostas:\\u003c\\u002fb\\u003e %{y}\\u003cextra\\u003e\\u003c\\u002fextra\\u003e\",\"name\":\"Você costuma usar a orla para lazer aos domingos? - Barras\",\"showlegend\":false,\"visible\":true,\"x\":[\"Sim, todo domingo\",\"Eventualmente\",\"Raramente\"],\"y\":[35,9,1],\"type\":\"bar\",\"opacity\":1},{\"hovertemplate\":\"%{label}\\u003cbr\\u003e\\u003cb\\u003eN:\\u003c\\u002fb\\u003e %{value} (\\u003cb\\u003e%{percent}\\u003c\\u002fb\\u003e)\\u003cextra\\u003e\\u003c\\u002fextra\\u003e\",\"labels\":[\"Sim, todo domingo\",\"Eventualmente\",\"Raramente\"],\"name\":\"Você costuma usar a orla para lazer aos domingos? - Pizza\",\"showlegend\":true,\"sort\":false,\"textinfo\":\"percent+label\",\"values\":[35,9,1],\"visible\":true,\"type\":\"pie\",\"opacity\":0},{\"customdata\":[\"Sim\",\"Não\"],\"hovertemplate\":\"%{customdata}\\u003cbr\\u003e\\u003cb\\u003eRespostas:\\u003c\\u002fb\\u003e %{y}\\u003cextra\\u003e\\u003c\\u002fextra\\u003e\",\"name\":\"Você é a favor da criação de uma faixa extra exclusiva de ciclistas? - Barras\",\"showlegend\":false,\"visible\":false,\"x\":[\"Sim\",\"Não\"],\"y\":[34,11],\"type\":\"bar\",\"opacity\":1},{\"hovertemplate\":\"%{label}\\u003cbr\\u003e\\u003cb\\u003eN:\\u003c\\u002fb\\u003e %{value} (\\u003cb\\u003e%{percent}\\u003c\\u002fb\\u003e)\\u003cextra\\u003e\\u003c\\u002fextra\\u003e\",\"labels\":[\"Sim\",\"Não\"],\"name\":\"Você é a favor da criação de uma faixa extra exclusiva de ciclistas? - Pizza\",\"showlegend\":true,\"sort\":false,\"textinfo\":\"percent+label\",\"values\":[34,11],\"visible\":false,\"type\":\"pie\",\"opacity\":0},{\"customdata\":[\"Pedalar\",\"Correr ou caminhar\",\"Apenas passear\",\"Levar crianças ou pets\",\"Outro: Todas essas opções \",\"Outro: Trabalho na praia \",\"Outro\"],\"hovertemplate\":\"%{customdata}\\u003cbr\\u003e\\u003cb\\u003eRespostas:\\u003c\\u002fb\\u003e %{y}\\u003cextra\\u003e\\u003c\\u002fextra\\u003e\",\"name\":\"Você utiliza a área de lazer da orla para: - Barras\",\"showlegend\":false,\"visible\":false,\"x\":[\"Pedalar\",\"Correr ou caminhar\",\"Apenas passear\",\"Levar crianças ou\\u003cbr\\u003epets\",\"Outro: Todas essas\\u003cbr\\u003eopções\",\"Outro: Trabalho na\\u003cbr\\u003epraia\",\"Outro\"],\"y\":[18,16,5,3,1,1,1],\"type\":\"bar\",\"opacity\":1},{\"hovertemplate\":\"%{label}\\u003cbr\\u003e\\u003cb\\u003eN:\\u003c\\u002fb\\u003e %{value} (\\u003cb\\u003e%{percent}\\u003c\\u002fb\\u003e)\\u003cextra\\u003e\\u003c\\u002fextra\\u003e\",\"labels\":[\"Pedalar\",\"Correr ou caminhar\",\"Apenas passear\",\"Levar crianças ou\\u003cbr\\u003epets\",\"Outro: Todas essas\\u003cbr\\u003eopções\",\"Outro: Trabalho na\\u003cbr\\u003epraia\",\"Outro\"],\"name\":\"Você utiliza a área de lazer da orla para: - Pizza\",\"showlegend\":true,\"sort\":false,\"textinfo\":\"percent+label\",\"values\":[18,16,5,3,1,1,1],\"visible\":false,\"type\":\"pie\",\"opacity\":0},{\"customdata\":[\"Não\",\"Sim\"],\"hovertemplate\":\"%{customdata}\\u003cbr\\u003e\\u003cb\\u003eRespostas:\\u003c\\u002fb\\u003e %{y}\\u003cextra\\u003e\\u003c\\u002fextra\\u003e\",\"name\":\"Você acredita que a ciclovia atual no calçadão é suficiente para dar conta da demanda aos domingos e feriados? - Barras\",\"showlegend\":false,\"visible\":false,\"x\":[\"Não\",\"Sim\"],\"y\":[35,10],\"type\":\"bar\",\"opacity\":1},{\"hovertemplate\":\"%{label}\\u003cbr\\u003e\\u003cb\\u003eN:\\u003c\\u002fb\\u003e %{value} (\\u003cb\\u003e%{percent}\\u003c\\u002fb\\u003e)\\u003cextra\\u003e\\u003c\\u002fextra\\u003e\",\"labels\":[\"Não\",\"Sim\"],\"name\":\"Você acredita que a ciclovia atual no calçadão é suficiente para dar conta da demanda aos domingos e feriados? - Pizza\",\"showlegend\":true,\"sort\":false,\"textinfo\":\"percent+label\",\"values\":[35,10],\"visible\":false,\"type\":\"pie\",\"opacity\":0},{\"customdata\":[\"A faixa ao lado do calçadão (continuidade da ciclovia existente)\",\"A faixa ao lado do canteiro central\",\"A faixa do meio\"],\"hovertemplate\":\"%{customdata}\\u003cbr\\u003e\\u003cb\\u003eRespostas:\\u003c\\u002fb\\u003e %{y}\\u003cextra\\u003e\\u003c\\u002fextra\\u003e\",\"name\":\"Se fosse criada uma ciclovia temporária na pista de rolamento, qual faixa você considera ideal? - Barras\",\"showlegend\":false,\"visible\":false,\"x\":[\"A faixa ao lado do\\u003cbr\\u003ecalçadão\\u003cbr\\u003e(continuidade da\\u003cbr\\u003eciclovia\\u003cbr\\u003eexistente)\",\"A faixa ao lado do\\u003cbr\\u003ecanteiro central\",\"A faixa do meio\"],\"y\":[34,9,2],\"type\":\"bar\",\"opacity\":1},{\"hovertemplate\":\"%{label}\\u003cbr\\u003e\\u003cb\\u003eN:\\u003c\\u002fb\\u003e %{value} (\\u003cb\\u003e%{percent}\\u003c\\u002fb\\u003e)\\u003cextra\\u003e\\u003c\\u002fextra\\u003e\",\"labels\":[\"A faixa ao lado do\\u003cbr\\u003ecalçadão\\u003cbr\\u003e(continuidade da\\u003cbr\\u003eciclovia\\u003cbr\\u003eexistente)\",\"A faixa ao lado do\\u003cbr\\u003ecanteiro central\",\"A faixa do meio\"],\"name\":\"Se fosse criada uma ciclovia temporária na pista de rolamento, qual faixa você considera ideal? - Pizza\",\"showlegend\":true,\"sort\":false,\"textinfo\":\"percent+label\",\"values\":[34,9,2],\"visible\":false,\"type\":\"pie\",\"opacity\":0}],                        {\"template\":{\"data\":{\"histogram2dcontour\":[{\"type\":\"histogram2dcontour\",\"colorbar\":{\"outlinewidth\":0,\"ticks\":\"\"},\"colorscale\":[[0.0,\"#0d0887\"],[0.1111111111111111,\"#46039f\"],[0.2222222222222222,\"#7201a8\"],[0.3333333333333333,\"#9c179e\"],[0.4444444444444444,\"#bd3786\"],[0.5555555555555556,\"#d8576b\"],[0.6666666666666666,\"#ed7953\"],[0.7777777777777778,\"#fb9f3a\"],[0.8888888888888888,\"#fdca26\"],[1.0,\"#f0f921\"]]}],\"choropleth\":[{\"type\":\"choropleth\",\"colorbar\":{\"outlinewidth\":0,\"ticks\":\"\"}}],\"histogram2d\":[{\"type\":\"histogram2d\",\"colorbar\":{\"outlinewidth\":0,\"ticks\":\"\"},\"colorscale\":[[0.0,\"#0d0887\"],[0.1111111111111111,\"#46039f\"],[0.2222222222222222,\"#7201a8\"],[0.3333333333333333,\"#9c179e\"],[0.4444444444444444,\"#bd3786\"],[0.5555555555555556,\"#d8576b\"],[0.6666666666666666,\"#ed7953\"],[0.7777777777777778,\"#fb9f3a\"],[0.8888888888888888,\"#fdca26\"],[1.0,\"#f0f921\"]]}],\"heatmap\":[{\"type\":\"heatmap\",\"colorbar\":{\"outlinewidth\":0,\"ticks\":\"\"},\"colorscale\":[[0.0,\"#0d0887\"],[0.1111111111111111,\"#46039f\"],[0.2222222222222222,\"#7201a8\"],[0.3333333333333333,\"#9c179e\"],[0.4444444444444444,\"#bd3786\"],[0.5555555555555556,\"#d8576b\"],[0.6666666666666666,\"#ed7953\"],[0.7777777777777778,\"#fb9f3a\"],[0.8888888888888888,\"#fdca26\"],[1.0,\"#f0f921\"]]}],\"heatmapgl\":[{\"type\":\"heatmapgl\",\"colorbar\":{\"outlinewidth\":0,\"ticks\":\"\"},\"colorscale\":[[0.0,\"#0d0887\"],[0.1111111111111111,\"#46039f\"],[0.2222222222222222,\"#7201a8\"],[0.3333333333333333,\"#9c179e\"],[0.4444444444444444,\"#bd3786\"],[0.5555555555555556,\"#d8576b\"],[0.6666666666666666,\"#ed7953\"],[0.7777777777777778,\"#fb9f3a\"],[0.8888888888888888,\"#fdca26\"],[1.0,\"#f0f921\"]]}],\"contourcarpet\":[{\"type\":\"contourcarpet\",\"colorbar\":{\"outlinewidth\":0,\"ticks\":\"\"}}],\"contour\":[{\"type\":\"contour\",\"colorbar\":{\"outlinewidth\":0,\"ticks\":\"\"},\"colorscale\":[[0.0,\"#0d0887\"],[0.1111111111111111,\"#46039f\"],[0.2222222222222222,\"#7201a8\"],[0.3333333333333333,\"#9c179e\"],[0.4444444444444444,\"#bd3786\"],[0.5555555555555556,\"#d8576b\"],[0.6666666666666666,\"#ed7953\"],[0.7777777777777778,\"#fb9f3a\"],[0.8888888888888888,\"#fdca26\"],[1.0,\"#f0f921\"]]}],\"surface\":[{\"type\":\"surface\",\"colorbar\":{\"outlinewidth\":0,\"ticks\":\"\"},\"colorscale\":[[0.0,\"#0d0887\"],[0.1111111111111111,\"#46039f\"],[0.2222222222222222,\"#7201a8\"],[0.3333333333333333,\"#9c179e\"],[0.4444444444444444,\"#bd3786\"],[0.5555555555555556,\"#d8576b\"],[0.6666666666666666,\"#ed7953\"],[0.7777777777777778,\"#fb9f3a\"],[0.8888888888888888,\"#fdca26\"],[1.0,\"#f0f921\"]]}],\"mesh3d\":[{\"type\":\"mesh3d\",\"colorbar\":{\"outlinewidth\":0,\"ticks\":\"\"}}],\"scatter\":[{\"fillpattern\":{\"fillmode\":\"overlay\",\"size\":10,\"solidity\":0.2},\"type\":\"scatter\"}],\"parcoords\":[{\"type\":\"parcoords\",\"line\":{\"colorbar\":{\"outlinewidth\":0,\"ticks\":\"\"}}}],\"scatterpolargl\":[{\"type\":\"scatterpolargl\",\"marker\":{\"colorbar\":{\"outlinewidth\":0,\"ticks\":\"\"}}}],\"bar\":[{\"error_x\":{\"color\":\"#2a3f5f\"},\"error_y\":{\"color\":\"#2a3f5f\"},\"marker\":{\"line\":{\"color\":\"#E5ECF6\",\"width\":0.5},\"pattern\":{\"fillmode\":\"overlay\",\"size\":10,\"solidity\":0.2}},\"type\":\"bar\"}],\"scattergeo\":[{\"type\":\"scattergeo\",\"marker\":{\"colorbar\":{\"outlinewidth\":0,\"ticks\":\"\"}}}],\"scatterpolar\":[{\"type\":\"scatterpolar\",\"marker\":{\"colorbar\":{\"outlinewidth\":0,\"ticks\":\"\"}}}],\"histogram\":[{\"marker\":{\"pattern\":{\"fillmode\":\"overlay\",\"size\":10,\"solidity\":0.2}},\"type\":\"histogram\"}],\"scattergl\":[{\"type\":\"scattergl\",\"marker\":{\"colorbar\":{\"outlinewidth\":0,\"ticks\":\"\"}}}],\"scatter3d\":[{\"type\":\"scatter3d\",\"line\":{\"colorbar\":{\"outlinewidth\":0,\"ticks\":\"\"}},\"marker\":{\"colorbar\":{\"outlinewidth\":0,\"ticks\":\"\"}}}],\"scattermapbox\":[{\"type\":\"scattermapbox\",\"marker\":{\"colorbar\":{\"outlinewidth\":0,\"ticks\":\"\"}}}],\"scatterternary\":[{\"type\":\"scatterternary\",\"marker\":{\"colorbar\":{\"outlinewidth\":0,\"ticks\":\"\"}}}],\"scattercarpet\":[{\"type\":\"scattercarpet\",\"marker\":{\"colorbar\":{\"outlinewidth\":0,\"ticks\":\"\"}}}],\"carpet\":[{\"aaxis\":{\"endlinecolor\":\"#2a3f5f\",\"gridcolor\":\"white\",\"linecolor\":\"white\",\"minorgridcolor\":\"white\",\"startlinecolor\":\"#2a3f5f\"},\"baxis\":{\"endlinecolor\":\"#2a3f5f\",\"gridcolor\":\"white\",\"linecolor\":\"white\",\"minorgridcolor\":\"white\",\"startlinecolor\":\"#2a3f5f\"},\"type\":\"carpet\"}],\"table\":[{\"cells\":{\"fill\":{\"color\":\"#EBF0F8\"},\"line\":{\"color\":\"white\"}},\"header\":{\"fill\":{\"color\":\"#C8D4E3\"},\"line\":{\"color\":\"white\"}},\"type\":\"table\"}],\"barpolar\":[{\"marker\":{\"line\":{\"color\":\"#E5ECF6\",\"width\":0.5},\"pattern\":{\"fillmode\":\"overlay\",\"size\":10,\"solidity\":0.2}},\"type\":\"barpolar\"}],\"pie\":[{\"automargin\":true,\"type\":\"pie\"}]},\"layout\":{\"autotypenumbers\":\"strict\",\"colorway\":[\"#636efa\",\"#EF553B\",\"#00cc96\",\"#ab63fa\",\"#FFA15A\",\"#19d3f3\",\"#FF6692\",\"#B6E880\",\"#FF97FF\",\"#FECB52\"],\"font\":{\"color\":\"#2a3f5f\"},\"hovermode\":\"closest\",\"hoverlabel\":{\"align\":\"left\"},\"paper_bgcolor\":\"white\",\"plot_bgcolor\":\"#E5ECF6\",\"polar\":{\"bgcolor\":\"#E5ECF6\",\"angularaxis\":{\"gridcolor\":\"white\",\"linecolor\":\"white\",\"ticks\":\"\"},\"radialaxis\":{\"gridcolor\":\"white\",\"linecolor\":\"white\",\"ticks\":\"\"}},\"ternary\":{\"bgcolor\":\"#E5ECF6\",\"aaxis\":{\"gridcolor\":\"white\",\"linecolor\":\"white\",\"ticks\":\"\"},\"baxis\":{\"gridcolor\":\"white\",\"linecolor\":\"white\",\"ticks\":\"\"},\"caxis\":{\"gridcolor\":\"white\",\"linecolor\":\"white\",\"ticks\":\"\"}},\"coloraxis\":{\"colorbar\":{\"outlinewidth\":0,\"ticks\":\"\"}},\"colorscale\":{\"sequential\":[[0.0,\"#0d0887\"],[0.1111111111111111,\"#46039f\"],[0.2222222222222222,\"#7201a8\"],[0.3333333333333333,\"#9c179e\"],[0.4444444444444444,\"#bd3786\"],[0.5555555555555556,\"#d8576b\"],[0.6666666666666666,\"#ed7953\"],[0.7777777777777778,\"#fb9f3a\"],[0.8888888888888888,\"#fdca26\"],[1.0,\"#f0f921\"]],\"sequentialminus\":[[0.0,\"#0d0887\"],[0.1111111111111111,\"#46039f\"],[0.2222222222222222,\"#7201a8\"],[0.3333333333333333,\"#9c179e\"],[0.4444444444444444,\"#bd3786\"],[0.5555555555555556,\"#d8576b\"],[0.6666666666666666,\"#ed7953\"],[0.7777777777777778,\"#fb9f3a\"],[0.8888888888888888,\"#fdca26\"],[1.0,\"#f0f921\"]],\"diverging\":[[0,\"#8e0152\"],[0.1,\"#c51b7d\"],[0.2,\"#de77ae\"],[0.3,\"#f1b6da\"],[0.4,\"#fde0ef\"],[0.5,\"#f7f7f7\"],[0.6,\"#e6f5d0\"],[0.7,\"#b8e186\"],[0.8,\"#7fbc41\"],[0.9,\"#4d9221\"],[1,\"#276419\"]]},\"xaxis\":{\"gridcolor\":\"white\",\"linecolor\":\"white\",\"ticks\":\"\",\"title\":{\"standoff\":15},\"zerolinecolor\":\"white\",\"automargin\":true,\"zerolinewidth\":2},\"yaxis\":{\"gridcolor\":\"white\",\"linecolor\":\"white\",\"ticks\":\"\",\"title\":{\"standoff\":15},\"zerolinecolor\":\"white\",\"automargin\":true,\"zerolinewidth\":2},\"scene\":{\"xaxis\":{\"backgroundcolor\":\"#E5ECF6\",\"gridcolor\":\"white\",\"linecolor\":\"white\",\"showbackground\":true,\"ticks\":\"\",\"zerolinecolor\":\"white\",\"gridwidth\":2},\"yaxis\":{\"backgroundcolor\":\"#E5ECF6\",\"gridcolor\":\"white\",\"linecolor\":\"white\",\"showbackground\":true,\"ticks\":\"\",\"zerolinecolor\":\"white\",\"gridwidth\":2},\"zaxis\":{\"backgroundcolor\":\"#E5ECF6\",\"gridcolor\":\"white\",\"linecolor\":\"white\",\"showbackground\":true,\"ticks\":\"\",\"zerolinecolor\":\"white\",\"gridwidth\":2}},\"shapedefaults\":{\"line\":{\"color\":\"#2a3f5f\"}},\"annotationdefaults\":{\"arrowcolor\":\"#2a3f5f\",\"arrowhead\":0,\"arrowwidth\":1},\"geo\":{\"bgcolor\":\"white\",\"landcolor\":\"#E5ECF6\",\"subunitcolor\":\"white\",\"showland\":true,\"showlakes\":true,\"lakecolor\":\"white\"},\"title\":{\"x\":0.05},\"mapbox\":{\"style\":\"light\"}}},\"title\":{\"font\":{\"size\":18},\"text\":\"Você costuma usar a orla para lazer aos domingos?\",\"y\":0.98,\"x\":0.02,\"xanchor\":\"left\"},\"legend\":{\"orientation\":\"v\",\"yanchor\":\"top\",\"y\":1,\"xanchor\":\"left\",\"x\":1.25,\"itemwidth\":60},\"margin\":{\"t\":95,\"b\":20,\"l\":20,\"r\":240},\"xaxis\":{\"visible\":true,\"showgrid\":true,\"gridcolor\":\"LightGray\"},\"yaxis\":{\"visible\":true,\"showgrid\":true,\"gridcolor\":\"LightGray\",\"rangemode\":\"tozero\"},\"updatemenus\":[{\"buttons\":[{\"args\":[{\"visible\":[true,true,false,false,false,false,false,false,false,false]},{\"title\":\"Você costuma usar a orla para lazer aos domingos?\"}],\"label\":\"Você costuma usar a orla para lazer aos domingos?\",\"method\":\"update\"},{\"args\":[{\"visible\":[false,false,true,true,false,false,false,false,false,false]},{\"title\":\"Você é a favor da criação de uma faixa extra exclusiva de ciclistas?\"}],\"label\":\"Você é a favor da criação de uma faixa extra exclusiva de ciclistas?\",\"method\":\"update\"},{\"args\":[{\"visible\":[false,false,false,false,true,true,false,false,false,false]},{\"title\":\"Você utiliza a área de lazer da orla para:\"}],\"label\":\"Você utiliza a área de lazer da orla para:\",\"method\":\"update\"},{\"args\":[{\"visible\":[false,false,false,false,false,false,true,true,false,false]},{\"title\":\"Você acredita que a ciclovia atual no calçadão é suficiente para dar conta da demanda aos domingos e feriados?\"}],\"label\":\"Você acredita que a ciclovia atual no calçadão é suficiente para dar conta da demanda aos domingos e feriados?\",\"method\":\"update\"},{\"args\":[{\"visible\":[false,false,false,false,false,false,false,false,true,true]},{\"title\":\"Se fosse criada uma ciclovia temporária na pista de rolamento, qual faixa você considera ideal?\"}],\"label\":\"Se fosse criada uma ciclovia temporária na pista de rolamento, qual faixa você considera ideal?\",\"method\":\"update\"}],\"direction\":\"down\",\"pad\":{\"b\":0,\"l\":0,\"r\":0,\"t\":0},\"showactive\":true,\"x\":0.02,\"xanchor\":\"left\",\"y\":1.08,\"yanchor\":\"top\"},{\"buttons\":[{\"args\":[{\"opacity\":[1,0,1,0,1,0,1,0,1,0]},{\"xaxis\":{\"visible\":true,\"showgrid\":true,\"gridcolor\":\"LightGray\"},\"yaxis\":{\"visible\":true,\"showgrid\":true,\"gridcolor\":\"LightGray\",\"rangemode\":\"tozero\"},\"showlegend\":false}],\"label\":\"Barras\",\"method\":\"update\"},{\"args\":[{\"opacity\":[0,1,0,1,0,1,0,1,0,1]},{\"xaxis\":{\"visible\":false},\"yaxis\":{\"visible\":false},\"showlegend\":true}],\"label\":\"Pizza\",\"method\":\"update\"}],\"direction\":\"down\",\"pad\":{\"b\":0,\"l\":0,\"r\":0,\"t\":0},\"showactive\":true,\"x\":0.02,\"xanchor\":\"left\",\"y\":1.03,\"yanchor\":\"top\"}],\"height\":600,\"paper_bgcolor\":\"white\",\"plot_bgcolor\":\"white\",\"bargap\":0.25},                        {\"responsive\": true}                    ).then(function(){\n",
              "                            \n",
              "var gd = document.getElementById('3e2ba42e-f0cc-42a1-8fdf-acae0bf7d0c3');\n",
              "var x = new MutationObserver(function (mutations, observer) {{\n",
              "        var display = window.getComputedStyle(gd).display;\n",
              "        if (!display || display === 'none') {{\n",
              "            console.log([gd, 'removed!']);\n",
              "            Plotly.purge(gd);\n",
              "            observer.disconnect();\n",
              "        }}\n",
              "}});\n",
              "\n",
              "// Listen for the removal of the full notebook cells\n",
              "var notebookContainer = gd.closest('#notebook-container');\n",
              "if (notebookContainer) {{\n",
              "    x.observe(notebookContainer, {childList: true});\n",
              "}}\n",
              "\n",
              "// Listen for the clearing of the current output cell\n",
              "var outputEl = gd.closest('.output');\n",
              "if (outputEl) {{\n",
              "    x.observe(outputEl, {childList: true});\n",
              "}}\n",
              "\n",
              "                        })                };                            </script>        </div>\n",
              "</body>\n",
              "</html>"
            ]
          },
          "metadata": {}
        }
      ]
    }
  ]
}